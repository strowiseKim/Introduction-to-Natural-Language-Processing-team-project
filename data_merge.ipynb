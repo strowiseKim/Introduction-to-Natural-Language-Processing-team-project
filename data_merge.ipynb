{
 "cells": [
  {
   "cell_type": "code",
   "execution_count": 19,
   "id": "158efb4e-1fa2-41b6-a259-475137d1243b",
   "metadata": {},
   "outputs": [
    {
     "name": "stdout",
     "output_type": "stream",
     "text": [
      "Warning: Looks like you're using an outdated `kagglehub` version (installed: 0.3.12), please consider upgrading to the latest version (0.3.13).\n",
      "dataset path: C:\\Users\\strow\\.cache\\kagglehub\\datasets\\mazlumi\\ielts-writing-scored-essays-dataset\\versions\\1\n",
      "file list: ['ielts_writing_dataset.csv']\n",
      "                                            Question  \\\n",
      "0  The bar chart below describes some changes abo...   \n",
      "1  Rich countries often give money to poorer coun...   \n",
      "2  The graph below shows the number of overseas v...   \n",
      "3  Some countries achieve international sports by...   \n",
      "4  The pie charts below show the percentage of ti...   \n",
      "\n",
      "                                               Essay  \n",
      "0  Between 1995 and 2010, a study was conducted r...  \n",
      "1  Poverty represents a worldwide crisis. It is t...  \n",
      "2  Information about the thousands of visits from...  \n",
      "3  Whether countries should only invest facilitie...  \n",
      "4  Information is presented in two pie charts whi...  \n",
      "200\n"
     ]
    }
   ],
   "source": [
    "import kagglehub\n",
    "import pandas as pd\n",
    "import os\n",
    "\n",
    "# dataset download\n",
    "path = kagglehub.dataset_download(\"mazlumi/ielts-writing-scored-essays-dataset\")\n",
    "\n",
    "print(f\"dataset path: {path}\")\n",
    "\n",
    "\n",
    "file_list = os.listdir(path)\n",
    "print(f\"file list: {file_list}\")\n",
    "\n",
    "# loading csv file\n",
    "csv_file_name = 'ielts_writing_dataset.csv'\n",
    "csv_file_path = os.path.join(path, csv_file_name)\n",
    "\n",
    "# loading to a dataframe\n",
    "df = pd.read_csv(csv_file_path)\n",
    "\n",
    "df_new = df[['Question', 'Essay']]\n",
    "\n",
    "df_new = df_new.drop_duplicates(subset=['Question'], keep='first')\n",
    "df_new.reset_index(drop=True, inplace=True)\n",
    "\n",
    "df_new = df_new.head(200)\n",
    "\n",
    "print(df_new.head())\n",
    "print(len(df_new))"
   ]
  },
  {
   "cell_type": "code",
   "execution_count": 23,
   "id": "15d16f10-cd4f-4238-888d-8ec0d7c1d323",
   "metadata": {},
   "outputs": [],
   "source": [
    "df_humanlike = pd.read_csv('generated_essays_humanlike.csv')\n",
    "df_normal = pd.read_csv('generated_essays_normal.csv')\n",
    "\n",
    "df_final = pd.concat([df_new, df_humanlike, df_normal], axis = 1)\n",
    "\n",
    "df_final.columns = ['Question', 'Human', 'Humanlike', 'Normal']\n",
    "\n",
    "df_final.to_csv('generated_essays_merged.csv', index = False)"
   ]
  },
  {
   "cell_type": "code",
   "execution_count": null,
   "id": "505684d2-b236-4aab-b432-a1035505e2ee",
   "metadata": {},
   "outputs": [],
   "source": []
  }
 ],
 "metadata": {
  "kernelspec": {
   "display_name": "Python 3 (ipykernel)",
   "language": "python",
   "name": "python3"
  },
  "language_info": {
   "codemirror_mode": {
    "name": "ipython",
    "version": 3
   },
   "file_extension": ".py",
   "mimetype": "text/x-python",
   "name": "python",
   "nbconvert_exporter": "python",
   "pygments_lexer": "ipython3",
   "version": "3.13.1"
  }
 },
 "nbformat": 4,
 "nbformat_minor": 5
}
